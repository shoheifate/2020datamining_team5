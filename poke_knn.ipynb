{
 "cells": [
  {
   "cell_type": "code",
   "execution_count": 1,
   "metadata": {},
   "outputs": [],
   "source": [
    "#ポケモン画像2x2モザイクのRGB取得\n",
    "import dataset\n",
    "image = dataset.Data_set()"
   ]
  },
  {
   "cell_type": "code",
   "execution_count": 2,
   "metadata": {},
   "outputs": [],
   "source": [
    "#説明変数XとタイプのみのYに分離\n",
    "import pandas as pd\n",
    "import random\n",
    "poke = pd.read_csv('data/convert_data/Pokemon.csv')\n",
    "poke_noType = poke.drop(['Number','Type1','Type2','Total','HP','Attack','Defense','SpecialAtk','SpecialDef','Speed','Generation','Legendary'],axis=1)\n",
    "X = []\n",
    "Y = []\n",
    "l = len(poke)\n",
    "col = poke_noType.columns.values\n",
    "coll = len(col)\n",
    "index = 0\n",
    "while index < l:\n",
    "    column = 0\n",
    "    Xdata = []\n",
    "    Y_nt = []\n",
    "    while column < coll: \n",
    "        Xdata.append(poke_noType.iat[index,column])\n",
    "        column += 1\n",
    "        \n",
    "    Y_nt.append(poke.at[index,'Type1'])\n",
    "    #タイプ2が無い場合タイプ1をコピー ex.['Fire','']なら['Fire','Fire']\n",
    "    if type(poke.at[index,'Type2']) is not type(poke.at[index,'Type1']):\n",
    "        Y_nt.append(poke.at[index,'Type1'])\n",
    "    else:\n",
    "        Y_nt.append(poke.at[index,'Type2'])\n",
    "    X.append(Xdata)\n",
    "    Y.append(Y_nt)\n",
    "    index += 1"
   ]
  },
  {
   "cell_type": "code",
   "execution_count": 3,
   "metadata": {},
   "outputs": [],
   "source": [
    "#Xにモザイクデータつける\n",
    "pon = 0 #0~ポケモン数\n",
    "while pon < l:\n",
    "    til = 0 #0~3 タイル4つ分\n",
    "    while til < 4:\n",
    "        rgb = 0 #0~2 rgb3つ分\n",
    "        while rgb < 3:\n",
    "            X[pon].append(image[pon][til][rgb])\n",
    "            rgb += 1\n",
    "        til += 1\n",
    "    pon += 1"
   ]
  },
  {
   "cell_type": "code",
   "execution_count": 4,
   "metadata": {},
   "outputs": [],
   "source": [
    "#どっちか当たってればいい精度確認関数\n",
    "def acjapan(Y_test, Y_pred1, Y_pred2):\n",
    "    testlen = len(Y_test) #テストポケモン数\n",
    "    acn = 0\n",
    "    true = 0\n",
    "    while acn < testlen:\n",
    "        if Y_pred1[acn] == Y_test[acn][0] or Y_pred1[acn] == Y_test[acn][1] or Y_pred2[acn] == Y_test[acn][0] or Y_pred2[acn] == Y_test[acn][1]:\n",
    "            true += 1\n",
    "        acn += 1\n",
    "\n",
    "    acc = true/testlen\n",
    "    return acc"
   ]
  },
  {
   "cell_type": "code",
   "execution_count": 5,
   "metadata": {},
   "outputs": [],
   "source": [
    "from sklearn.neighbors import KNeighborsClassifier\n",
    "from sklearn.model_selection import train_test_split # trainとtest分割用\n",
    "\n",
    "# train用とtest用のデータ用意。test_sizeでテスト用データの割合を指定。random_stateはseed値を適当にセット。\n",
    "(X_train, X_test, Y_train, Y_test) = train_test_split(X, Y, test_size = 0.2, random_state=0)\n",
    "\n",
    "#第1~7世代はtrainに,第8世代はtestに(第8世代予測用)\n",
    "# (X_train, X_test, Y_train, Y_test) = (X[0:801], X[801:], Y[0:801], Y[801:])\n",
    "# for i in [X_train, Y_train]:\n",
    "#     random.seed(32)\n",
    "#     random.shuffle(i)\n",
    "\n",
    "#Xには[\"名前\"、重さ、RGB,...,RGB]が入ってるので名前だけ別のlistに移す(学習に名前は使わない + 後に名前と予測タイプをprintして見たいため)\n",
    "#Yには[\"タイプ1\",\"タイプ2\"]が入ってるのでタイプ1のlist,タイプ2のlistをそれぞれ作る\n",
    "Name = []\n",
    "X_train2 = X_train\n",
    "X_test2 = X_test\n",
    "Y_train_t1 = []\n",
    "Y_train_t2 = []\n",
    "train0 = 0\n",
    "test0 = 0\n",
    "trainl = len(X_train2) #train数\n",
    "testl = len(X_test2) #test数\n",
    "\n",
    "while train0 < trainl:\n",
    "    X_train2[train0].pop(0)\n",
    "    Y_train_t1.append(Y_train[train0][0])\n",
    "    Y_train_t2.append(Y_train[train0][1])\n",
    "    train0 += 1\n",
    "\n",
    "while test0 < testl:\n",
    "    Name.append(X_test2[test0].pop(0))\n",
    "    test0 += 1"
   ]
  },
  {
   "cell_type": "code",
   "execution_count": 6,
   "metadata": {},
   "outputs": [],
   "source": [
    "#標準化。重さとRGBの数値を揃える(極端な重さは鋼と岩に分類しやすくなるからイランかも)\n",
    "from sklearn.preprocessing import StandardScaler\n",
    "sc = StandardScaler()\n",
    "X_train_std = sc.fit_transform(X_train2)\n",
    "X_test_std = sc.fit_transform(X_test2)"
   ]
  },
  {
   "cell_type": "code",
   "execution_count": 7,
   "metadata": {},
   "outputs": [],
   "source": [
    "#パラメータ探しの旅\n",
    "#n_neighbors: Kの数\n",
    "#weights: 重み付け。dagoultは'uniform'で全ての値が等しく考慮される。'distance'は距離も関係(遠い場所より近い場所の値が優先されたりする)\n",
    "#p: ミンコフスキー距離。defaultはp=2でユークリッド距離のこと。ついでにp=1はマンハッタン距離\n",
    "param_gs_knn ={'n_neighbors':[11,31,51,71],\n",
    "               'weights':['uniform','distance'],\n",
    "               'p':[1,2,3,4,5,6,7,8,9,10]}"
   ]
  },
  {
   "cell_type": "code",
   "execution_count": 8,
   "metadata": {},
   "outputs": [],
   "source": [
    "#パラメータ探しの旅NEXT\n",
    "from sklearn.model_selection import GridSearchCV\n",
    "knn = KNeighborsClassifier() # インスタンス生成\n",
    "\n",
    "grid_search1 = GridSearchCV(knn, param_gs_knn, cv=5)\n",
    "grid_search1.fit(X_train2, Y_train_t1) #標準化無し タイプ1学習\n",
    "\n",
    "grid_search2 = GridSearchCV(knn, param_gs_knn, cv=5)\n",
    "grid_search2.fit(X_train2, Y_train_t2) #標準化無し タイプ2学習\n",
    "\n",
    "grid_search3 = GridSearchCV(knn, param_gs_knn, cv=5)\n",
    "grid_search3.fit(X_train_std, Y_train_t1) #標準化有り タイプ1学習\n",
    "\n",
    "grid_search4 = GridSearchCV(knn, param_gs_knn, cv=5)\n",
    "grid_search4.fit(X_train_std, Y_train_t2) #標準化有り タイプ2学習"
   ]
  },
  {
   "cell_type": "code",
   "execution_count": 9,
   "metadata": {},
   "outputs": [],
   "source": [
    "print(\"標準化無し\",\"\\nbest_param1:\",grid_search1.best_params_,\"best_score1:\",grid_search1.best_score_,\"\\nbest_param2:\",grid_search2.best_params_,\"best_score2:\",grid_search2.best_score_)\n",
    "print(\"標準化有り\",\"\\nbest_param1:\",grid_search3.best_params_,\"best_score1:\",grid_search3.best_score_,\"\\nbest_param2:\",grid_search4.best_params_,\"best_score2:\",grid_search4.best_score_)"
   ]
  },
  {
   "cell_type": "code",
   "execution_count": 10,
   "metadata": {},
   "outputs": [],
   "source": [
    "#試しに学習してみる\n",
    "k = 1 #kの数\n",
    "p = 1 #パラメータp\n",
    "\n",
    "#目的変数 = タイプ1 の場合\n",
    "knn1 = KNeighborsClassifier(n_neighbors=k, weights=\"distance\", p=p)\n",
    "knn1.fit(X_train2, Y_train_t1)                # モデル作成実行\n",
    "Y_pred1 = knn1.predict(X_test2)           # 予測実行\n",
    "\n",
    "#目的変数 = タイプ2 の場合\n",
    "knn2 = KNeighborsClassifier(n_neighbors=k, weights=\"distance\", p=p)\n",
    "knn2.fit(X_train2, Y_train_t2)\n",
    "Y_pred2 = knn2.predict(X_test2)\n",
    "\n",
    "#精度の確認\n",
    "accuracy = acjapan(Y_test,Y_pred1,Y_pred2)\n",
    "print(\"accuracy=\",accuracy)"
   ]
  },
  {
   "cell_type": "code",
   "execution_count": 125,
   "metadata": {},
   "outputs": [
    {
     "name": "stdout",
     "output_type": "stream",
     "text": [
      "名前: Mew  実タイプ: ['Psychic', 'Psychic']  予測タイプ1: Normal  予測タイプ2: Normal\n",
      "名前: Roserade  実タイプ: ['Grass', 'Poison']  予測タイプ1: Rock  予測タイプ2: Ice\n",
      "名前: Simisear  実タイプ: ['Fire', 'Fire']  予測タイプ1: Fire  予測タイプ2: Fire\n",
      "名前: Exeggcute  実タイプ: ['Grass', 'Psychic']  予測タイプ1: Grass  予測タイプ2: Fairy\n",
      "名前: Deerling  実タイプ: ['Normal', 'Grass']  予測タイプ1: Steel  予測タイプ2: Steel\n",
      "名前: Dedenne  実タイプ: ['Electric', 'Fairy']  予測タイプ1: Fire  予測タイプ2: Fire\n",
      "名前: Corviknight  実タイプ: ['Flying', 'Steel']  予測タイプ1: Rock  予測タイプ2: Rock\n",
      "名前: Coalossal  実タイプ: ['Rock', 'Fire']  予測タイプ1: Rock  予測タイプ2: Dragon\n",
      "名前: Starly  実タイプ: ['Normal', 'Flying']  予測タイプ1: Grass  予測タイプ2: Grass\n",
      "名前: Nidoran♂  実タイプ: ['Poison', 'Poison']  予測タイプ1: Poison  予測タイプ2: Poison\n",
      "名前: Umbreon  実タイプ: ['Dark', 'Dark']  予測タイプ1: Psychic  予測タイプ2: Flying\n",
      "名前: Heatran  実タイプ: ['Fire', 'Steel']  予測タイプ1: Steel  予測タイプ2: Ground\n",
      "名前: Monferno  実タイプ: ['Fire', 'Fighting']  予測タイプ1: Fire  予測タイプ2: Fighting\n",
      "名前: Silicobra  実タイプ: ['Ground', 'Ground']  予測タイプ1: Normal  予測タイプ2: Normal\n",
      "名前: Electivire  実タイプ: ['Electric', 'Electric']  予測タイプ1: Ghost  予測タイプ2: Ghost\n",
      "名前: Zekrom  実タイプ: ['Dragon', 'Electric']  予測タイプ1: Fairy  予測タイプ2: Fairy\n",
      "名前: Breloom  実タイプ: ['Grass', 'Fighting']  予測タイプ1: Psychic  予測タイプ2: Psychic\n",
      "名前: Poliwhirl  実タイプ: ['Water', 'Water']  予測タイプ1: Fighting  予測タイプ2: Fighting\n",
      "名前: Rapidash  実タイプ: ['Fire', 'Fire']  予測タイプ1: Fire  予測タイプ2: Fire\n",
      "名前: Skitty  実タイプ: ['Normal', 'Normal']  予測タイプ1: Bug  予測タイプ2: Bug\n",
      "名前: Malamar  実タイプ: ['Dark', 'Psychic']  予測タイプ1: Ghost  予測タイプ2: Poison\n",
      "名前: Beedrill  実タイプ: ['Bug', 'Poison']  予測タイプ1: Normal  予測タイプ2: Normal\n",
      "名前: Cascoon  実タイプ: ['Bug', 'Bug']  予測タイプ1: Bug  予測タイプ2: Ground\n",
      "名前: Moltres  実タイプ: ['Fire', 'Flying']  予測タイプ1: Ice  予測タイプ2: Ground\n",
      "名前: Pyroar  実タイプ: ['Fire', 'Normal']  予測タイプ1: Bug  予測タイプ2: Bug\n",
      "名前: Mankey  実タイプ: ['Fighting', 'Fighting']  予測タイプ1: Ground  予測タイプ2: Ground\n",
      "名前: Grubbin  実タイプ: ['Bug', 'Bug']  予測タイプ1: Fire  予測タイプ2: Fire\n",
      "名前: Lileep  実タイプ: ['Rock', 'Grass']  予測タイプ1: Normal  予測タイプ2: Flying\n",
      "名前: Salazzle  実タイプ: ['Poison', 'Fire']  予測タイプ1: Dragon  予測タイプ2: Dragon\n",
      "名前: Gallade  実タイプ: ['Psychic', 'Fighting']  予測タイプ1: Dark  予測タイプ2: Dark\n",
      "名前: Dracovish  実タイプ: ['Water', 'Dragon']  予測タイプ1: Dragon  予測タイプ2: Dragon\n",
      "名前: Type:Null  実タイプ: ['Normal', 'Normal']  予測タイプ1: Electric  予測タイプ2: Electric\n",
      "名前: Dragapult  実タイプ: ['Dragon', 'Ghost']  予測タイプ1: Bug  予測タイプ2: Fighting\n",
      "名前: Chingling  実タイプ: ['Psychic', 'Psychic']  予測タイプ1: Ghost  予測タイプ2: Fairy\n",
      "名前: TornadusIncarnate Forme  実タイプ: ['Flying', 'Flying']  予測タイプ1: Poison  予測タイプ2: Poison\n",
      "名前: Scatterbug  実タイプ: ['Bug', 'Bug']  予測タイプ1: Rock  予測タイプ2: Rock\n",
      "名前: Electrike  実タイプ: ['Electric', 'Electric']  予測タイプ1: Grass  予測タイプ2: Steel\n",
      "名前: Bellossom  実タイプ: ['Grass', 'Grass']  予測タイプ1: Ice  予測タイプ2: Ground\n",
      "名前: Solrock  実タイプ: ['Rock', 'Psychic']  予測タイプ1: Fire  予測タイプ2: Fighting\n",
      "名前: Sharpedo  実タイプ: ['Water', 'Dark']  予測タイプ1: Dark  予測タイプ2: Dark\n",
      "名前: Heatmor  実タイプ: ['Fire', 'Fire']  予測タイプ1: Fire  予測タイプ2: Fire\n",
      "名前: Chespin  実タイプ: ['Grass', 'Grass']  予測タイプ1: Fire  予測タイプ2: Fighting\n",
      "名前: Ralts  実タイプ: ['Psychic', 'Fairy']  予測タイプ1: Grass  予測タイプ2: Poison\n",
      "名前: Durant  実タイプ: ['Bug', 'Steel']  予測タイプ1: Normal  予測タイプ2: Ground\n",
      "名前: Krabby  実タイプ: ['Water', 'Water']  予測タイプ1: Dark  予測タイプ2: Flying\n",
      "名前: Lairon  実タイプ: ['Steel', 'Rock']  予測タイプ1: Ghost  予測タイプ2: Dark\n",
      "名前: Milcery  実タイプ: ['Fairy', 'Fairy']  予測タイプ1: Fire  予測タイプ2: Fire\n",
      "名前: Sawk  実タイプ: ['Fighting', 'Fighting']  予測タイプ1: Water  予測タイプ2: Water\n",
      "名前: Braviary  実タイプ: ['Normal', 'Flying']  予測タイプ1: Dark  予測タイプ2: Dragon\n",
      "名前: Helioptile  実タイプ: ['Electric', 'Normal']  予測タイプ1: Rock  予測タイプ2: Rock\n",
      "名前: Blastoise  実タイプ: ['Water', 'Water']  予測タイプ1: Electric  予測タイプ2: Electric\n",
      "名前: Zapdos  実タイプ: ['Electric', 'Flying']  予測タイプ1: Grass  予測タイプ2: Grass\n",
      "名前: Palkia  実タイプ: ['Water', 'Dragon']  予測タイプ1: Ice  予測タイプ2: Ice\n",
      "名前: Jangmo-o  実タイプ: ['Dragon', 'Dragon']  予測タイプ1: Fighting  予測タイプ2: Fighting\n",
      "名前: Lombre  実タイプ: ['Water', 'Grass']  予測タイプ1: Bug  予測タイプ2: Grass\n",
      "名前: Blipbug  実タイプ: ['Bug', 'Bug']  予測タイプ1: Normal  予測タイプ2: Normal\n",
      "名前: Phanpy  実タイプ: ['Ground', 'Ground']  予測タイプ1: Poison  予測タイプ2: Water\n",
      "名前: Sealeo  実タイプ: ['Ice', 'Water']  予測タイプ1: Bug  予測タイプ2: Flying\n",
      "名前: Beautifly  実タイプ: ['Bug', 'Flying']  予測タイプ1: Rock  予測タイプ2: Rock\n",
      "名前: Sableye  実タイプ: ['Dark', 'Ghost']  予測タイプ1: Normal  予測タイプ2: Normal\n",
      "名前: Teddiursa  実タイプ: ['Normal', 'Normal']  予測タイプ1: Fire  予測タイプ2: Fire\n",
      "名前: Meditite  実タイプ: ['Fighting', 'Psychic']  予測タイプ1: Rock  予測タイプ2: Fairy\n",
      "名前: Unfezant  実タイプ: ['Normal', 'Flying']  予測タイプ1: Dark  予測タイプ2: Fire\n",
      "名前: Infernape  実タイプ: ['Fire', 'Fighting']  予測タイプ1: Fire  予測タイプ2: Fighting\n",
      "名前: Clefairy  実タイプ: ['Fairy', 'Fairy']  予測タイプ1: Fairy  予測タイプ2: Fairy\n",
      "名前: Pyukumuku  実タイプ: ['Water', 'Water']  予測タイプ1: Rock  予測タイプ2: Rock\n",
      "名前: Floette  実タイプ: ['Fairy', 'Fairy']  予測タイプ1: Water  予測タイプ2: Rock\n",
      "名前: Passimian  実タイプ: ['Fighting', 'Fighting']  予測タイプ1: Ground  予測タイプ2: Dragon\n",
      "名前: Sandslash  実タイプ: ['Ground', 'Ground']  予測タイプ1: Bug  予測タイプ2: Electric\n",
      "名前: Nidoqueen  実タイプ: ['Poison', 'Ground']  予測タイプ1: Water  予測タイプ2: Ground\n",
      "名前: Vanilluxe  実タイプ: ['Ice', 'Ice']  予測タイプ1: Poison  予測タイプ2: Water\n",
      "名前: Skiddo  実タイプ: ['Grass', 'Grass']  予測タイプ1: Normal  予測タイプ2: Normal\n",
      "名前: Steenee  実タイプ: ['Grass', 'Grass']  予測タイプ1: Normal  予測タイプ2: Normal\n",
      "名前: Jirachi  実タイプ: ['Steel', 'Psychic']  予測タイプ1: Psychic  予測タイプ2: Grass\n",
      "名前: Ludicolo  実タイプ: ['Water', 'Grass']  予測タイプ1: Rock  予測タイプ2: Water\n",
      "名前: Kommo-o  実タイプ: ['Dragon', 'Fighting']  予測タイプ1: Rock  予測タイプ2: Ground\n",
      "名前: Salamence  実タイプ: ['Dragon', 'Flying']  予測タイプ1: Grass  予測タイプ2: Poison\n",
      "名前: Masquerain  実タイプ: ['Bug', 'Flying']  予測タイプ1: Normal  予測タイプ2: Normal\n",
      "名前: Loudred  実タイプ: ['Normal', 'Normal']  予測タイプ1: Poison  予測タイプ2: Ground\n",
      "名前: Girafarig  実タイプ: ['Normal', 'Psychic']  予測タイプ1: Psychic  予測タイプ2: Psychic\n",
      "名前: Carvanha  実タイプ: ['Water', 'Dark']  予測タイプ1: Ghost  予測タイプ2: Ghost\n",
      "名前: Sobble  実タイプ: ['Water', 'Water']  予測タイプ1: Psychic  予測タイプ2: Psychic\n",
      "名前: Woobat  実タイプ: ['Psychic', 'Flying']  予測タイプ1: Psychic  予測タイプ2: Psychic\n",
      "名前: Bewear  実タイプ: ['Normal', 'Fighting']  予測タイプ1: Rock  予測タイプ2: Rock\n",
      "名前: Rockruff  実タイプ: ['Rock', 'Rock']  予測タイプ1: Bug  予測タイプ2: Ground\n",
      "名前: Yamper  実タイプ: ['Electric', 'Electric']  予測タイプ1: Grass  予測タイプ2: Grass\n",
      "名前: Swoobat  実タイプ: ['Psychic', 'Flying']  予測タイプ1: Ghost  予測タイプ2: Fire\n",
      "名前: Klefki  実タイプ: ['Steel', 'Fairy']  予測タイプ1: Psychic  予測タイプ2: Psychic\n",
      "名前: Zorua  実タイプ: ['Dark', 'Dark']  予測タイプ1: Rock  予測タイプ2: Rock\n",
      "名前: Karrablast  実タイプ: ['Bug', 'Bug']  予測タイプ1: Electric  予測タイプ2: Flying\n",
      "名前: Pangoro  実タイプ: ['Fighting', 'Dark']  予測タイプ1: Normal  予測タイプ2: Normal\n",
      "名前: Oranguru  実タイプ: ['Normal', 'Psychic']  予測タイプ1: Normal  予測タイプ2: Normal\n",
      "名前: Hitmontop  実タイプ: ['Fighting', 'Fighting']  予測タイプ1: Dark  予測タイプ2: Dark\n",
      "名前: Rowlet  実タイプ: ['Grass', 'Flying']  予測タイプ1: Psychic  予測タイプ2: Psychic\n",
      "名前: Cosmog  実タイプ: ['Psychic', 'Psychic']  予測タイプ1: Bug  予測タイプ2: Bug\n",
      "名前: Groudon  実タイプ: ['Ground', 'Ground']  予測タイプ1: Ground  予測タイプ2: Ground\n",
      "名前: Binacle  実タイプ: ['Rock', 'Water']  予測タイプ1: Normal  予測タイプ2: Normal\n",
      "名前: Probopass  実タイプ: ['Rock', 'Steel']  予測タイプ1: Psychic  予測タイプ2: Psychic\n",
      "名前: Forretress  実タイプ: ['Bug', 'Steel']  予測タイプ1: Rock  予測タイプ2: Ground\n",
      "名前: Herdier  実タイプ: ['Normal', 'Normal']  予測タイプ1: Water  予測タイプ2: Water\n",
      "名前: Sceptile  実タイプ: ['Grass', 'Grass']  予測タイプ1: Poison  予測タイプ2: Poison\n",
      "名前: Lumineon  実タイプ: ['Water', 'Water']  予測タイプ1: Electric  予測タイプ2: Electric\n",
      "名前: Cacturne  実タイプ: ['Grass', 'Dark']  予測タイプ1: Dragon  予測タイプ2: Fighting\n",
      "名前: Latias  実タイプ: ['Dragon', 'Psychic']  予測タイプ1: Fighting  予測タイプ2: Fighting\n",
      "名前: Crustle  実タイプ: ['Bug', 'Rock']  予測タイプ1: Fire  予測タイプ2: Fire\n",
      "名前: Absol  実タイプ: ['Dark', 'Dark']  予測タイプ1: Normal  予測タイプ2: Normal\n",
      "名前: Marshtomp  実タイプ: ['Water', 'Ground']  予測タイプ1: Poison  予測タイプ2: Poison\n",
      "名前: Grovyle  実タイプ: ['Grass', 'Grass']  予測タイプ1: Normal  予測タイプ2: Normal\n",
      "名前: Mismagius  実タイプ: ['Ghost', 'Ghost']  予測タイプ1: Ghost  予測タイプ2: Poison\n",
      "名前: Lunala  実タイプ: ['Psychic', 'Ghost']  予測タイプ1: Water  予測タイプ2: Steel\n",
      "名前: Charizard  実タイプ: ['Fire', 'Flying']  予測タイプ1: Steel  予測タイプ2: Ghost\n",
      "名前: Diancie  実タイプ: ['Rock', 'Fairy']  予測タイプ1: Psychic  予測タイプ2: Normal\n",
      "名前: Mantyke  実タイプ: ['Water', 'Flying']  予測タイプ1: Grass  予測タイプ2: Grass\n",
      "名前: Cubone  実タイプ: ['Ground', 'Ground']  予測タイプ1: Normal  予測タイプ2: Normal\n",
      "名前: Skuntank  実タイプ: ['Poison', 'Dark']  予測タイプ1: Dark  予測タイプ2: Flying\n",
      "名前: Tyranitar  実タイプ: ['Rock', 'Dark']  予測タイプ1: Fire  予測タイプ2: Fire\n",
      "名前: Inteleon  実タイプ: ['Water', 'Water']  予測タイプ1: Steel  予測タイプ2: Dragon\n",
      "名前: Baltoy  実タイプ: ['Ground', 'Psychic']  予測タイプ1: Normal  予測タイプ2: Normal\n",
      "名前: Gossifleur  実タイプ: ['Grass', 'Grass']  予測タイプ1: Grass  予測タイプ2: Dragon\n",
      "名前: Seedot  実タイプ: ['Grass', 'Grass']  予測タイプ1: Normal  予測タイプ2: Flying\n",
      "名前: Snorlax  実タイプ: ['Normal', 'Normal']  予測タイプ1: Ice  予測タイプ2: Ice\n",
      "名前: Luxio  実タイプ: ['Electric', 'Electric']  予測タイプ1: Normal  予測タイプ2: Flying\n",
      "名前: Hydreigon  実タイプ: ['Dark', 'Dragon']  予測タイプ1: Rock  予測タイプ2: Rock\n",
      "名前: Jellicent  実タイプ: ['Water', 'Ghost']  予測タイプ1: Flying  予測タイプ2: Water\n",
      "名前: Tranquill  実タイプ: ['Normal', 'Flying']  予測タイプ1: Grass  予測タイプ2: Poison\n",
      "名前: Copperajah  実タイプ: ['Steel', 'Steel']  予測タイプ1: Steel  予測タイプ2: Dragon\n",
      "名前: Tangela  実タイプ: ['Grass', 'Grass']  予測タイプ1: Dragon  予測タイプ2: Ground\n",
      "名前: Frogadier  実タイプ: ['Water', 'Water']  予測タイプ1: Normal  予測タイプ2: Normal\n",
      "名前: Ho-oh  実タイプ: ['Fire', 'Flying']  予測タイプ1: Fire  予測タイプ2: Water\n",
      "名前: Zubat  実タイプ: ['Poison', 'Flying']  予測タイプ1: Bug  予測タイプ2: Water\n",
      "名前: Barboach  実タイプ: ['Water', 'Ground']  予測タイプ1: Steel  予測タイプ2: Steel\n",
      "名前: Sneasel  実タイプ: ['Dark', 'Ice']  予測タイプ1: Dark  予測タイプ2: Dark\n",
      "名前: Croconaw  実タイプ: ['Water', 'Water']  予測タイプ1: Ghost  予測タイプ2: Ghost\n",
      "名前: Togetic  実タイプ: ['Fairy', 'Flying']  予測タイプ1: Psychic  予測タイプ2: Psychic\n",
      "名前: Garbodor  実タイプ: ['Poison', 'Poison']  予測タイプ1: Steel  予測タイプ2: Fairy\n",
      "名前: Palpitoad  実タイプ: ['Water', 'Ground']  予測タイプ1: Water  予測タイプ2: Water\n",
      "名前: Tapu Fini  実タイプ: ['Water', 'Fairy']  予測タイプ1: Water  予測タイプ2: Water\n",
      "名前: Lucario  実タイプ: ['Fighting', 'Steel']  予測タイプ1: Rock  予測タイプ2: Rock\n",
      "名前: Tapu Lele  実タイプ: ['Psychic', 'Fairy']  予測タイプ1: Fighting  予測タイプ2: Psychic\n",
      "名前: Aerodactyl  実タイプ: ['Rock', 'Flying']  予測タイプ1: Water  予測タイプ2: Dark\n",
      "名前: Rookidee  実タイプ: ['Flying', 'Flying']  予測タイプ1: Bug  予測タイプ2: Poison\n",
      "名前: Simisage  実タイプ: ['Grass', 'Grass']  予測タイプ1: Grass  予測タイプ2: Grass\n",
      "名前: Abra  実タイプ: ['Psychic', 'Psychic']  予測タイプ1: Fire  予測タイプ2: Fire\n",
      "名前: Slowbro  実タイプ: ['Water', 'Psychic']  予測タイプ1: Psychic  予測タイプ2: Psychic\n",
      "名前: ShayminLand Forme  実タイプ: ['Grass', 'Grass']  予測タイプ1: Grass  予測タイプ2: Fairy\n",
      "名前: Kecleon  実タイプ: ['Normal', 'Normal']  予測タイプ1: Grass  予測タイプ2: Flying\n",
      "名前: Archeops  実タイプ: ['Rock', 'Flying']  予測タイプ1: Normal  予測タイプ2: Normal\n",
      "名前: Linoone  実タイプ: ['Normal', 'Normal']  予測タイプ1: Water  予測タイプ2: Water\n",
      "名前: Cradily  実タイプ: ['Rock', 'Grass']  予測タイプ1: Water  予測タイプ2: Water\n",
      "名前: Audino  実タイプ: ['Normal', 'Normal']  予測タイプ1: Electric  予測タイプ2: Electric\n",
      "名前: Tropius  実タイプ: ['Grass', 'Flying']  予測タイプ1: Fighting  予測タイプ2: Fighting\n",
      "名前: Delphox  実タイプ: ['Fire', 'Psychic']  予測タイプ1: Fire  予測タイプ2: Fire\n",
      "名前: Froslass  実タイプ: ['Ice', 'Ghost']  予測タイプ1: Bug  予測タイプ2: Bug\n",
      "名前: Lillipup  実タイプ: ['Normal', 'Normal']  予測タイプ1: Ice  予測タイプ2: Psychic\n",
      "名前: Seel  実タイプ: ['Water', 'Water']  予測タイプ1: Bug  予測タイプ2: Poison\n",
      "名前: Beheeyem  実タイプ: ['Psychic', 'Psychic']  予測タイプ1: Water  予測タイプ2: Rock\n",
      "名前: Golem  実タイプ: ['Rock', 'Ground']  予測タイプ1: Dragon  予測タイプ2: Ice\n",
      "名前: Magby  実タイプ: ['Fire', 'Fire']  予測タイプ1: Fire  予測タイプ2: Fighting\n",
      "名前: Clauncher  実タイプ: ['Water', 'Water']  予測タイプ1: Poison  予測タイプ2: Bug\n",
      "名前: Swalot  実タイプ: ['Poison', 'Poison']  予測タイプ1: Steel  予測タイプ2: Rock\n"
     ]
    },
    {
     "name": "stdout",
     "output_type": "stream",
     "text": [
      "名前: Walrein  実タイプ: ['Ice', 'Water']  予測タイプ1: Ground  予測タイプ2: Rock\n",
      "名前: Centiskorch  実タイプ: ['Fire', 'Bug']  予測タイプ1: Fighting  予測タイプ2: Fighting\n",
      "名前: Ivysaur  実タイプ: ['Grass', 'Poison']  予測タイプ1: Electric  予測タイプ2: Steel\n",
      "名前: Mothim  実タイプ: ['Bug', 'Flying']  予測タイプ1: Fire  予測タイプ2: Normal\n",
      "名前: Trevenant  実タイプ: ['Ghost', 'Grass']  予測タイプ1: Dark  予測タイプ2: Dragon\n",
      "名前: MiniorMeteor Form  実タイプ: ['Rock', 'Flying']  予測タイプ1: Fire  予測タイプ2: Normal\n",
      "名前: Sizzlipede  実タイプ: ['Fire', 'Bug']  予測タイプ1: Dark  予測タイプ2: Dark\n",
      "名前: Xuriktree  実タイプ: ['Electric', 'Electric']  予測タイプ1: Bug  予測タイプ2: Electric\n",
      "名前: Bergmite  実タイプ: ['Ice', 'Ice']  予測タイプ1: Rock  予測タイプ2: Poison\n",
      "名前: Corvisquire  実タイプ: ['Flying', 'Flying']  予測タイプ1: Normal  予測タイプ2: Fairy\n",
      "名前: Kabutops  実タイプ: ['Rock', 'Water']  予測タイプ1: Grass  予測タイプ2: Fairy\n",
      "名前: Wailmer  実タイプ: ['Water', 'Water']  予測タイプ1: Normal  予測タイプ2: Normal\n",
      "名前: Spheal  実タイプ: ['Ice', 'Water']  予測タイプ1: Poison  予測タイプ2: Poison\n",
      "名前: Gorebyss  実タイプ: ['Water', 'Water']  予測タイプ1: Normal  予測タイプ2: Flying\n",
      "名前: Wurmple  実タイプ: ['Bug', 'Bug']  予測タイプ1: Bug  予測タイプ2: Flying\n",
      "名前: Wailord  実タイプ: ['Water', 'Water']  予測タイプ1: Psychic  予測タイプ2: Psychic\n",
      "名前: Magmortar  実タイプ: ['Fire', 'Fire']  予測タイプ1: Fire  予測タイプ2: Fighting\n"
     ]
    }
   ],
   "source": [
    "#名前、タイプ、予測タイプ1、予測タイプ2をprintで確認\n",
    "test0 = 0\n",
    "while test0 < testl:\n",
    "    print(\"名前:\",Name[test0],\" 実タイプ:\",Y_test[test0],\" 予測タイプ1:\",Y_pred1[test0],\" 予測タイプ2:\", Y_pred2[test0])\n",
    "    test0 += 1"
   ]
  },
  {
   "cell_type": "code",
   "execution_count": 9,
   "metadata": {},
   "outputs": [
    {
     "data": {
      "text/plain": [
       "[<matplotlib.lines.Line2D at 0x1142733c8>]"
      ]
     },
     "execution_count": 9,
     "metadata": {},
     "output_type": "execute_result"
    },
    {
     "data": {
      "image/png": "[encoded data removed]",
      "text/plain": [
       "<matplotlib.figure.Figure at 0x119e6d320>"
      ]
     },
     "metadata": {},
     "output_type": "display_data"
    }
   ],
   "source": [
    "#kを1~100まで変えて、その時の精度を可視化(標準化無し)\n",
    "import matplotlib.pyplot as plt\n",
    "accuracy = []\n",
    "k_range = []\n",
    "p = 8\n",
    "for k in range(1, 100):\n",
    "    knn = KNeighborsClassifier(n_neighbors=k, weights='distance', algorithm='auto', p=p) # インスタンス生成。\n",
    "    knn.fit(X_train2, Y_train_t1)                 # モデル作成実行\n",
    "    Y_pred_t1 = knn.predict(X_test2)  # 予測実行\n",
    "    \n",
    "    knn2 = KNeighborsClassifier(n_neighbors=k, weights='distance', algorithm='auto', p=p) # インスタンス生成。\n",
    "    knn2.fit(X_train2, Y_train_t2)                 # モデル作成実行\n",
    "    Y_pred_t2 = knn2.predict(X_test2)  # 予測実行\n",
    "\n",
    "    acc = acjapan(Y_test, Y_pred_t1, Y_pred_t2)\n",
    "    accuracy.append(acc) # 精度格納\n",
    "    k_range.append(k)\n",
    "    \n",
    "plt.plot(k_range, accuracy)"
   ]
  },
  {
   "cell_type": "code",
   "execution_count": 10,
   "metadata": {},
   "outputs": [
    {
     "name": "stdout",
     "output_type": "stream",
     "text": [
      "k= 56 \n",
      "max_accuracy= 0.4406779661016949\n"
     ]
    }
   ],
   "source": [
    "#グラフの最も高い精度とその時のk\n",
    "max_acc = max(accuracy)\n",
    "k_ind = accuracy.index(max_acc)\n",
    "print(\"k=\",k_range[k_ind],\"\\nmax_accuracy=\",max_acc)"
   ]
  },
  {
   "cell_type": "code",
   "execution_count": 128,
   "metadata": {},
   "outputs": [
    {
     "data": {
      "text/plain": [
       "[<matplotlib.lines.Line2D at 0x1a16c72048>]"
      ]
     },
     "execution_count": 128,
     "metadata": {},
     "output_type": "execute_result"
    },
    {
     "data": {
      "image/png": "[encoded data removed]",
      "text/plain": [
       "<matplotlib.figure.Figure at 0x1a16941240>"
      ]
     },
     "metadata": {},
     "output_type": "display_data"
    }
   ],
   "source": [
    "#標準化有りversion\n",
    "accuracy = []\n",
    "k_range = []\n",
    "p = 1\n",
    "for k in range(1, 100):\n",
    "    knn = KNeighborsClassifier(n_neighbors=k, weights='distance', algorithm='auto', p=p) # インスタンス生成。\n",
    "    knn.fit(X_train_std, Y_train_t1)                 # モデル作成実行\n",
    "    Y_pred_t1 = knn.predict(X_test_std)  # 予測実行\n",
    "    \n",
    "    knn2 = KNeighborsClassifier(n_neighbors=k, weights='distance', algorithm='auto', p=p) # インスタンス生成。\n",
    "    knn2.fit(X_train_std, Y_train_t2)                 # モデル作成実行\n",
    "    Y_pred_t2 = knn2.predict(X_test_std)  # 予測実行\n",
    "\n",
    "    acc = acjapan(Y_test, Y_pred_t1, Y_pred_t2)\n",
    "    accuracy.append(acc) # 精度格納\n",
    "    k_range.append(k)\n",
    "\n",
    "plt.plot(k_range, accuracy)"
   ]
  },
  {
   "cell_type": "code",
   "execution_count": 131,
   "metadata": {},
   "outputs": [
    {
     "name": "stdout",
     "output_type": "stream",
     "text": [
      "k= 44 \n",
      "max_accuracy= 0.3615819209039548\n"
     ]
    }
   ],
   "source": [
    "max_acc = max(accuracy)\n",
    "k_ind = accuracy.index(max_acc)\n",
    "print(\"k=\",k_range[k_ind],\"\\nmax_accuracy=\",max_acc)"
   ]
  },
  {
   "cell_type": "code",
   "execution_count": null,
   "metadata": {},
   "outputs": [],
   "source": []
  }
 ],
 "metadata": {
  "kernelspec": {
   "display_name": "Python 3",
   "language": "python",
   "name": "python3"
  },
  "language_info": {
   "codemirror_mode": {
    "name": "ipython",
    "version": 3
   },
   "file_extension": ".py",
   "mimetype": "text/x-python",
   "name": "python",
   "nbconvert_exporter": "python",
   "pygments_lexer": "ipython3",
   "version": "3.6.4"
  }
 },
 "nbformat": 4,
 "nbformat_minor": 2
}
